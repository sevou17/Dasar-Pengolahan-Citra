{
 "cells": [
  {
   "cell_type": "code",
   "execution_count": 1,
   "metadata": {},
   "outputs": [
    {
     "name": "stdout",
     "output_type": "stream",
     "text": [
      "Citra asli A:\n",
      "[[10  9 15  8  5  4]\n",
      " [ 2  5  6  0 12  1]\n",
      " [ 1  5  5 12 14  1]\n",
      " [ 6 11  3  4 14  3]\n",
      " [ 8  0 14  2 11  7]\n",
      " [ 3  8  3  5  6  0]]\n",
      "\n",
      "Citra hasil translasi B:\n",
      "[[ 0  0  0  0  0  0]\n",
      " [ 0  0 10  9 15  8]\n",
      " [ 0  0  2  5  6  0]\n",
      " [ 0  0  1  5  5 12]\n",
      " [ 0  0  6 11  3  4]\n",
      " [ 0  0  8  0 14  2]]\n"
     ]
    }
   ],
   "source": [
    "import numpy as np\n",
    "\n",
    "# Ukuran citra\n",
    "rows = 6  # jumlah baris\n",
    "cols = 6  # jumlah kolom\n",
    "\n",
    "# Matriks citra asli A\n",
    "A = np.array([[10,  9, 15,  8,  5,  4],\n",
    " [ 2,  5,  6,  0, 12,  1],\n",
    " [ 1,  5,  5, 12, 14,  1],\n",
    " [ 6, 11,  3,  4, 14,  3],\n",
    " [ 8,  0, 14,  2, 11,  7],\n",
    " [ 3,  8,  3,  5,  6,  0]]\n",
    ")\n",
    "\n",
    "# Matriks untuk citra hasil translasi B\n",
    "B = np.zeros((rows, cols), dtype=int)\n",
    "\n",
    "# Vektor translasi\n",
    "x = 2  # translasi horizontal\n",
    "y = 1  # translasi vertikal\n",
    "\n",
    "# Proses translasi\n",
    "for i in range(rows):\n",
    "    for j in range(cols):\n",
    "        new_x = j + x\n",
    "        new_y = i + y\n",
    "        if 0 <= new_x < cols and 0 <= new_y < rows:\n",
    "            B[new_y][new_x] = A[i][j]\n",
    "\n",
    "print(\"Citra asli A:\")\n",
    "print(A)\n",
    "print(\"\\nCitra hasil translasi B:\")\n",
    "print(B)\n"
   ]
  }
 ],
 "metadata": {
  "kernelspec": {
   "display_name": "Python 3",
   "language": "python",
   "name": "python3"
  },
  "language_info": {
   "codemirror_mode": {
    "name": "ipython",
    "version": 3
   },
   "file_extension": ".py",
   "mimetype": "text/x-python",
   "name": "python",
   "nbconvert_exporter": "python",
   "pygments_lexer": "ipython3",
   "version": "3.12.3"
  }
 },
 "nbformat": 4,
 "nbformat_minor": 2
}
