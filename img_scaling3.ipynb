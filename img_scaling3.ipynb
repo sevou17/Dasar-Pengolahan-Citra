{
 "cells": [
  {
   "cell_type": "code",
   "execution_count": 6,
   "metadata": {},
   "outputs": [
    {
     "name": "stdout",
     "output_type": "stream",
     "text": [
      "Citra Awal:\n",
      "[[10  9 15  8  5  4]\n",
      " [ 2  5  6  0 12  1]\n",
      " [ 1  5  5 12 14  1]\n",
      " [ 6 11  3  4 14  3]\n",
      " [ 8  0 14  2 11  7]\n",
      " [ 3  8  3  5  6  0]]\n",
      "\n",
      "Citra Hasil Penskalaan:\n",
      "[[10 10  9 15 15  8  5  5  4]\n",
      " [10 10  9 15 15  8  5  5  4]\n",
      " [ 2  2  5  6  6  0 12 12  1]\n",
      " [ 1  1  5  5  5 12 14 14  1]\n",
      " [ 1  1  5  5  5 12 14 14  1]\n",
      " [ 6  6 11  3  3  4 14 14  3]\n",
      " [ 8  8  0 14 14  2 11 11  7]\n",
      " [ 8  8  0 14 14  2 11 11  7]\n",
      " [ 3  3  8  3  3  5  6  6  0]]\n"
     ]
    }
   ],
   "source": [
    "import numpy as np\n",
    "\n",
    "# Membuat matriks 6x6 dengan angka acak antara 0 hingga 15\n",
    "citra_awal = np.array([[10,  9, 15,  8,  5,  4],\n",
    " [ 2,  5,  6,  0, 12,  1],\n",
    " [ 1,  5,  5, 12, 14,  1],\n",
    " [ 6, 11,  3,  4, 14,  3],\n",
    " [ 8,  0, 14,  2, 11,  7],\n",
    " [ 3,  8,  3,  5,  6,  0]]\n",
    ")\n",
    "\n",
    "# Menampilkan citra awal sebelum penskalaan\n",
    "print(\"Citra Awal:\")\n",
    "print(citra_awal)\n",
    "print()\n",
    "\n",
    "# Faktor skala untuk penskalaan kecil\n",
    "s_x = 1.5\n",
    "s_y = 1.5\n",
    "\n",
    "# Menghitung dimensi citra hasil penskalaan\n",
    "new_width = int(citra_awal.shape[1] * s_x)\n",
    "new_height = int(citra_awal.shape[0] * s_y)\n",
    "\n",
    "# Inisialisasi matriks untuk citra hasil penskalaan\n",
    "citra_hasil = np.zeros((new_height, new_width), dtype=citra_awal.dtype)\n",
    "\n",
    "# Melakukan penskalaan citra kecil\n",
    "for i in range(new_height):\n",
    "    for j in range(new_width):\n",
    "        citra_hasil[i, j] = citra_awal[int(i/s_y), int(j/s_x)]\n",
    "\n",
    "# Menampilkan citra hasil penskalaan\n",
    "print(\"Citra Hasil Penskalaan:\")\n",
    "print(citra_hasil)\n"
   ]
  }
 ],
 "metadata": {
  "kernelspec": {
   "display_name": "Python 3",
   "language": "python",
   "name": "python3"
  },
  "language_info": {
   "codemirror_mode": {
    "name": "ipython",
    "version": 3
   },
   "file_extension": ".py",
   "mimetype": "text/x-python",
   "name": "python",
   "nbconvert_exporter": "python",
   "pygments_lexer": "ipython3",
   "version": "3.11.3"
  }
 },
 "nbformat": 4,
 "nbformat_minor": 2
}
